{
 "cells": [
  {
   "cell_type": "markdown",
   "metadata": {},
   "source": [
    "## Deep MNIST Tensorflow Tutorial"
   ]
  },
  {
   "cell_type": "markdown",
   "metadata": {},
   "source": [
    "Source: https://www.tensorflow.org/get_started/mnist/pros\n",
    "\n",
    "In this tutorial:\n",
    "- Create a softmax regression function that is a model for recognizing MNIST digits, based on looking at every pixel in the image\n",
    "- Use Tensorflow to train the model to recognize digits by having it \"look\" at thousands of examples (and run our first Tensorflow session to do so)\n",
    "- Check the model's accuracy with our test data\n",
    "- Build, train, and test a multilayer convolutional neural network to improve the results"
   ]
  },
  {
   "cell_type": "markdown",
   "metadata": {},
   "source": [
    "### Setup"
   ]
  },
  {
   "cell_type": "markdown",
   "metadata": {},
   "source": [
    "Loading MNIST Data"
   ]
  },
  {
   "cell_type": "code",
   "execution_count": 1,
   "metadata": {
    "collapsed": false
   },
   "outputs": [
    {
     "name": "stdout",
     "output_type": "stream",
     "text": [
      "Extracting /Users/christopherlabiak/Desktop/MNIST_data/train-images-idx3-ubyte.gz\n",
      "Extracting /Users/christopherlabiak/Desktop/MNIST_data/train-labels-idx1-ubyte.gz\n",
      "Extracting /Users/christopherlabiak/Desktop/MNIST_data/t10k-images-idx3-ubyte.gz\n",
      "Extracting /Users/christopherlabiak/Desktop/MNIST_data/t10k-labels-idx1-ubyte.gz\n"
     ]
    }
   ],
   "source": [
    "from tensorflow.examples.tutorials.mnist import input_data\n",
    "mnist = input_data.read_data_sets('/Users/christopherlabiak/Desktop/MNIST_data', one_hot=True)"
   ]
  },
  {
   "cell_type": "code",
   "execution_count": 2,
   "metadata": {
    "collapsed": false
   },
   "outputs": [
    {
     "name": "stdout",
     "output_type": "stream",
     "text": [
      "Size of:\n",
      "- Training-set:\t\t55000\n",
      "- Test-set:\t\t10000\n",
      "- Validation-set:\t5000\n"
     ]
    }
   ],
   "source": [
    "print(\"Size of:\")\n",
    "print(\"- Training-set:\\t\\t{}\".format(len(mnist.train.labels)))\n",
    "print(\"- Test-set:\\t\\t{}\".format(len(mnist.test.labels)))\n",
    "#Do not use the validation set here\n",
    "print(\"- Validation-set:\\t{}\".format(len(mnist.validation.labels)))"
   ]
  },
  {
   "cell_type": "markdown",
   "metadata": {},
   "source": [
    "### Start TensorFlow InteractiveSession "
   ]
  },
  {
   "cell_type": "markdown",
   "metadata": {},
   "source": [
    "- TF relies on a C++ backend for computation\n",
    "- Create a connection through a session"
   ]
  },
  {
   "cell_type": "code",
   "execution_count": 3,
   "metadata": {
    "collapsed": true
   },
   "outputs": [],
   "source": [
    "import tensorflow as tf\n",
    "sess = tf.InteractiveSession()"
   ]
  },
  {
   "cell_type": "markdown",
   "metadata": {},
   "source": [
    "### Build a Softmax Regression Model"
   ]
  },
  {
   "cell_type": "markdown",
   "metadata": {},
   "source": [
    "#### Placeholders"
   ]
  },
  {
   "cell_type": "code",
   "execution_count": 4,
   "metadata": {
    "collapsed": true
   },
   "outputs": [],
   "source": [
    "#Placeholder\n",
    "x = tf.placeholder(tf.float32, [None, 784])\n",
    "y_ = tf.placeholder(tf.float32, [None, 10])"
   ]
  },
  {
   "cell_type": "markdown",
   "metadata": {},
   "source": [
    "#### Variables"
   ]
  },
  {
   "cell_type": "markdown",
   "metadata": {},
   "source": [
    "Before Variables can be used within a session, they must be initialized using that session. "
   ]
  },
  {
   "cell_type": "code",
   "execution_count": 5,
   "metadata": {
    "collapsed": true
   },
   "outputs": [],
   "source": [
    "W = tf.Variable(tf.zeros([784, 10]))\n",
    "b = tf.Variable(tf.zeros([10]))\n",
    "\n",
    "# Initialize all variables at once\n",
    "sess.run(tf.global_variables_initializer())"
   ]
  },
  {
   "cell_type": "markdown",
   "metadata": {},
   "source": [
    "#### Predicting Class and Loss Function "
   ]
  },
  {
   "cell_type": "markdown",
   "metadata": {},
   "source": [
    "We can now implement the regression model"
   ]
  },
  {
   "cell_type": "code",
   "execution_count": 6,
   "metadata": {
    "collapsed": true
   },
   "outputs": [],
   "source": [
    "y = tf.matmul(x,W) + b"
   ]
  },
  {
   "cell_type": "markdown",
   "metadata": {},
   "source": [
    "And specify the loss function. Loss indicates how bad the model's prediction was on a single example. Here, the loss function is the cross-entropy between the target and the softmax activation function applied to the model's prediction"
   ]
  },
  {
   "cell_type": "code",
   "execution_count": 7,
   "metadata": {
    "collapsed": false
   },
   "outputs": [],
   "source": [
    "#Note that tf.nn.softmax_cross_entropy_with_logits internally applies \n",
    "#the softmax on the model's unnormalized model prediction and sums across all classes, \n",
    "#and tf.reduce_mean takes the average over these sums.\n",
    "cross_entropy = tf.reduce_mean(\n",
    "    tf.nn.softmax_cross_entropy_with_logits(labels=y_, logits=y))"
   ]
  },
  {
   "cell_type": "markdown",
   "metadata": {},
   "source": [
    "### Train the Model"
   ]
  },
  {
   "cell_type": "markdown",
   "metadata": {},
   "source": [
    "Since we have defined the model and loss function, tensorflow knows the entire computation graph and it can use automatic differentation to find the gradients of the loss with respect to each of the variables"
   ]
  },
  {
   "cell_type": "code",
   "execution_count": 8,
   "metadata": {
    "collapsed": false
   },
   "outputs": [],
   "source": [
    "# Optimization algo: Steepest gradient descent with a step length of 0.5\n",
    "# This line adds new operations to the computation graph. \n",
    "# These operations included ones to compute gradients, compute parameter\n",
    "# update steps, and apply update steps to the parameters\n",
    "train_step = tf.train.GradientDescentOptimizer(0.5).minimize(cross_entropy)"
   ]
  },
  {
   "cell_type": "markdown",
   "metadata": {},
   "source": [
    "Train_step will apply the gradient descent updates to the parameters. Training the model can therefore be accomplished by repeatedly running train_step. We load 100 training examples in each training iteration. The feed dict replaces the placeholder tensors x and y with training examples"
   ]
  },
  {
   "cell_type": "code",
   "execution_count": 9,
   "metadata": {
    "collapsed": false
   },
   "outputs": [],
   "source": [
    "for _ in range(1):\n",
    "    batch = mnist.train.next_batch(1)\n",
    "    print\n",
    "    #train_step.run(feed_dict = {x: batch[0], y_: batch[1]})"
   ]
  },
  {
   "cell_type": "code",
   "execution_count": 10,
   "metadata": {
    "collapsed": false
   },
   "outputs": [],
   "source": [
    "#for _ in range(1):\n",
    "#    batch_validate = mnist.train.next_batch(1)\n",
    "#    print(batch_validate)\n",
    "    #validate_step.run(feed_dict = {xv: batch_validate[0], yv_: batch_validate[1]})"
   ]
  },
  {
   "cell_type": "markdown",
   "metadata": {},
   "source": [
    "### Evaluate the Model"
   ]
  },
  {
   "cell_type": "code",
   "execution_count": 11,
   "metadata": {
    "collapsed": false
   },
   "outputs": [
    {
     "name": "stdout",
     "output_type": "stream",
     "text": [
      "0.098\n"
     ]
    }
   ],
   "source": [
    "correct_prediction = tf.equal(tf.argmax(y,1), tf.argmax(y_,1))\n",
    "accuracy = tf.reduce_mean(tf.cast(correct_prediction, tf.float32))\n",
    "print(accuracy.eval(feed_dict={x: mnist.test.images, y_: mnist.test.labels}))"
   ]
  },
  {
   "cell_type": "markdown",
   "metadata": {},
   "source": [
    "## Build a Multilayer Convolution Network"
   ]
  },
  {
   "cell_type": "markdown",
   "metadata": {},
   "source": [
    "### Weight Initialization"
   ]
  },
  {
   "cell_type": "markdown",
   "metadata": {},
   "source": [
    "Need to create a lot of weights and biases. Good practice to initialize them with a slightly positive initial bias to avoid \"dead neurons\""
   ]
  },
  {
   "cell_type": "code",
   "execution_count": 12,
   "metadata": {
    "collapsed": true
   },
   "outputs": [],
   "source": [
    "def weight_variable(shape):\n",
    "    initial = tf.truncated_normal(shape, stddev=0.1)\n",
    "    return tf.Variable(initial)\n",
    "\n",
    "def bias_variable(shape):\n",
    "    initial = tf.constant(0.1, shape=shape)\n",
    "    return tf.Variable(initial)"
   ]
  },
  {
   "cell_type": "markdown",
   "metadata": {},
   "source": [
    "### Convolution and Pooling "
   ]
  },
  {
   "cell_type": "markdown",
   "metadata": {},
   "source": [
    "TF provides lots of flexibility with regards to convolution and pooling, but we will stick to the vanilla version for this tutorial. Convolutions will use a stride of one and are zero padded so that the output is the same as the input. Our pooling is plain old max pooling over 2x2 blocks."
   ]
  },
  {
   "cell_type": "code",
   "execution_count": 13,
   "metadata": {
    "collapsed": true
   },
   "outputs": [],
   "source": [
    "def conv2d(x, W):\n",
    "    return tf.nn.conv2d(x, W, strides=[1, 1, 1, 1], padding='SAME')\n",
    "\n",
    "def max_pool_2x2(x):\n",
    "    return tf.nn.max_pool(x, ksize=[1, 2, 2, 1], strides=[1, 2, 2, 1], padding='SAME')"
   ]
  },
  {
   "cell_type": "markdown",
   "metadata": {},
   "source": [
    "#### First Convolution Layer"
   ]
  },
  {
   "cell_type": "markdown",
   "metadata": {},
   "source": [
    "The first layer will consist of convolution, followed by max pooling. The convolution will compute 32 features for each 5x5 patch. Its weight tensore will have a shape of [5, 5, 1, 32], where [patch_dimension, patch_dimension, input_channels, output_channels]. Plus, an additional bias vector with a component for each output channel."
   ]
  },
  {
   "cell_type": "code",
   "execution_count": 14,
   "metadata": {
    "collapsed": true
   },
   "outputs": [],
   "source": [
    "W_conv1 = weight_variable([5, 5, 1, 32])\n",
    "b_conv1 = bias_variable([32])"
   ]
  },
  {
   "cell_type": "markdown",
   "metadata": {},
   "source": [
    "First reshape x to a 4d tensor, with the second and third dimensions corresponding to image width and height, and the final dimension corresponding to the number of color channels."
   ]
  },
  {
   "cell_type": "code",
   "execution_count": 15,
   "metadata": {
    "collapsed": true
   },
   "outputs": [],
   "source": [
    "x_image = tf.reshape(x, [-1,28,28,1])"
   ]
  },
  {
   "cell_type": "markdown",
   "metadata": {},
   "source": [
    "Next, convolve x_image with the weight tensor, add the bias, and apply the ReLU function, and finally max pool. The max pool method will reduce the image size to 14x14."
   ]
  },
  {
   "cell_type": "code",
   "execution_count": 16,
   "metadata": {
    "collapsed": true
   },
   "outputs": [],
   "source": [
    "h_conv1 = tf.nn.relu(conv2d(x_image, W_conv1) + b_conv1)\n",
    "h_pool1 = max_pool_2x2(h_conv1)"
   ]
  },
  {
   "cell_type": "markdown",
   "metadata": {},
   "source": [
    "#### Second Convolution Layer"
   ]
  },
  {
   "cell_type": "markdown",
   "metadata": {},
   "source": [
    "In order for a deep network, we stack several layers of this type. This second layer will have 64 features for each 5x5 patch."
   ]
  },
  {
   "cell_type": "code",
   "execution_count": 17,
   "metadata": {
    "collapsed": false
   },
   "outputs": [],
   "source": [
    "W_conv2 = weight_variable([5, 5, 32, 64])\n",
    "b_conv2 = bias_variable([64])\n",
    "\n",
    "h_conv2 = tf.nn.relu(conv2d(h_pool1, W_conv2) + b_conv2)\n",
    "h_pool2 = max_pool_2x2(h_conv2)"
   ]
  },
  {
   "cell_type": "markdown",
   "metadata": {},
   "source": [
    "#### Densely Connected Layer"
   ]
  },
  {
   "cell_type": "markdown",
   "metadata": {},
   "source": [
    "The image size is reduced to 7x7. We now add a fully-connected layer with 1024 neurons to allow processing on the entire image. We reshape the tensor from the pooling layer into a batch of vectors, multiply by a weight matrix, add a bias, and apply a ReLU."
   ]
  },
  {
   "cell_type": "code",
   "execution_count": 18,
   "metadata": {
    "collapsed": true
   },
   "outputs": [],
   "source": [
    "W_fc1 = weight_variable([7 * 7 * 64, 1024])\n",
    "b_fc1 = bias_variable([1024])\n",
    "\n",
    "h_pool2_flat = tf.reshape(h_pool2, [-1, 7*7*64])\n",
    "h_fc1 = tf.nn.relu(tf.matmul(h_pool2_flat, W_fc1) + b_fc1)"
   ]
  },
  {
   "cell_type": "markdown",
   "metadata": {},
   "source": [
    "#### Dropout"
   ]
  },
  {
   "cell_type": "markdown",
   "metadata": {},
   "source": [
    "To reduce overfitting, we will apply dropout before the readout layer. We create a placeholder for the probability that a neuron's output is kept during the dropout. This allows us to turn dropout on during training, and turn it off during testing. TensorFlow's tf.nn.dropout op automatically handles scaling neuron outputs in addition to masking them, so dropout just works without any additional scaling."
   ]
  },
  {
   "cell_type": "code",
   "execution_count": 19,
   "metadata": {
    "collapsed": true
   },
   "outputs": [],
   "source": [
    "keep_prob = tf.placeholder(tf.float32)\n",
    "h_fc1_drop = tf.nn.dropout(h_fc1, keep_prob)"
   ]
  },
  {
   "cell_type": "markdown",
   "metadata": {},
   "source": [
    "#### Readout Layer"
   ]
  },
  {
   "cell_type": "markdown",
   "metadata": {},
   "source": [
    "Finally, we add a layer, just like for the one layer softmax regression above."
   ]
  },
  {
   "cell_type": "code",
   "execution_count": 20,
   "metadata": {
    "collapsed": true
   },
   "outputs": [],
   "source": [
    "W_fc2 = weight_variable([1024, 10])\n",
    "b_fc2 = bias_variable([10])\n",
    "\n",
    "y_conv = tf.matmul(h_fc1_drop, W_fc2) + b_fc2"
   ]
  },
  {
   "cell_type": "code",
   "execution_count": 21,
   "metadata": {
    "collapsed": false
   },
   "outputs": [
    {
     "data": {
      "text/plain": [
       "<tf.Tensor 'ArgMax_2:0' shape=(?,) dtype=int64>"
      ]
     },
     "execution_count": 21,
     "metadata": {},
     "output_type": "execute_result"
    }
   ],
   "source": [
    "#tf.argmax(y_conv,1)"
   ]
  },
  {
   "cell_type": "markdown",
   "metadata": {},
   "source": [
    "### Train and Evaluate the Model"
   ]
  },
  {
   "cell_type": "markdown",
   "metadata": {},
   "source": [
    "To train and evaluate it we will use code that is nearly identical to that for the simple one layer SoftMax network above.\n",
    "\n",
    "Differences:\n",
    "- We will replace the steepest gradient descent optimizer with the more sophisticated ADAM optimizer.\n",
    "- We will include the additional parameter keep_prob in feed_dict to control the dropout rate.\n",
    "- We will add logging to every 100th iteration in the training process."
   ]
  },
  {
   "cell_type": "code",
   "execution_count": 23,
   "metadata": {
    "collapsed": false
   },
   "outputs": [
    {
     "name": "stdout",
     "output_type": "stream",
     "text": [
      "step 0, validation accuracy 0.1132, train accuracy 0.09\n",
      "step 100, validation accuracy 0.8864, train accuracy 0.87\n",
      "step 200, validation accuracy 0.9278, train accuracy 0.92\n",
      "step 300, validation accuracy 0.9434, train accuracy 0.88\n",
      "step 400, validation accuracy 0.9502, train accuracy 0.97\n",
      "step 500, validation accuracy 0.958, train accuracy 0.9\n",
      "step 600, validation accuracy 0.9584, train accuracy 0.92\n",
      "step 700, validation accuracy 0.9686, train accuracy 0.91\n",
      "step 800, validation accuracy 0.9702, train accuracy 0.95\n",
      "step 900, validation accuracy 0.9716, train accuracy 0.99\n",
      "step 1000, validation accuracy 0.974, train accuracy 0.98\n",
      "step 1100, validation accuracy 0.9742, train accuracy 0.96\n",
      "step 1200, validation accuracy 0.977, train accuracy 0.98\n",
      "step 1300, validation accuracy 0.9776, train accuracy 0.97\n",
      "step 1400, validation accuracy 0.979, train accuracy 0.98\n",
      "step 1500, validation accuracy 0.98, train accuracy 1\n",
      "step 1600, validation accuracy 0.98, train accuracy 0.99\n",
      "step 1700, validation accuracy 0.9816, train accuracy 0.97\n",
      "step 1800, validation accuracy 0.9816, train accuracy 0.98\n",
      "step 1900, validation accuracy 0.9822, train accuracy 1\n",
      "step 2000, validation accuracy 0.983, train accuracy 0.98\n",
      "step 2100, validation accuracy 0.9818, train accuracy 1\n",
      "step 2200, validation accuracy 0.9826, train accuracy 0.98\n",
      "step 2300, validation accuracy 0.9816, train accuracy 0.98\n",
      "step 2400, validation accuracy 0.9836, train accuracy 0.98\n",
      "step 2500, validation accuracy 0.984, train accuracy 1\n",
      "step 2600, validation accuracy 0.984, train accuracy 0.99\n",
      "step 2700, validation accuracy 0.9854, train accuracy 0.99\n",
      "step 2800, validation accuracy 0.9856, train accuracy 1\n",
      "step 2900, validation accuracy 0.9842, train accuracy 0.99\n",
      "step 3000, validation accuracy 0.9864, train accuracy 0.99\n",
      "step 3100, validation accuracy 0.9846, train accuracy 0.99\n",
      "step 3200, validation accuracy 0.9878, train accuracy 1\n",
      "step 3300, validation accuracy 0.987, train accuracy 1\n",
      "step 3400, validation accuracy 0.9864, train accuracy 0.99\n",
      "step 3500, validation accuracy 0.9872, train accuracy 0.99\n",
      "step 3600, validation accuracy 0.9864, train accuracy 0.97\n",
      "step 3700, validation accuracy 0.9884, train accuracy 0.99\n",
      "step 3800, validation accuracy 0.988, train accuracy 0.99\n",
      "step 3900, validation accuracy 0.9894, train accuracy 1\n",
      "step 4000, validation accuracy 0.9886, train accuracy 0.99\n",
      "step 4100, validation accuracy 0.9882, train accuracy 0.99\n",
      "step 4200, validation accuracy 0.9882, train accuracy 0.99\n",
      "step 4300, validation accuracy 0.9882, train accuracy 0.99\n",
      "step 4400, validation accuracy 0.9902, train accuracy 1\n",
      "step 4500, validation accuracy 0.9894, train accuracy 0.99\n",
      "step 4600, validation accuracy 0.9882, train accuracy 1\n",
      "step 4700, validation accuracy 0.9898, train accuracy 0.97\n",
      "step 4800, validation accuracy 0.9886, train accuracy 1\n",
      "step 4900, validation accuracy 0.99, train accuracy 0.99\n"
     ]
    }
   ],
   "source": [
    "import matplotlib.pyplot as plt\n",
    "%matplotlib inline\n",
    "#plt.axis([0, 500, 0, 1])\n",
    "\n",
    "cross_entropy = tf.reduce_mean(\n",
    "    tf.nn.softmax_cross_entropy_with_logits(labels=y_, logits=y_conv))\n",
    "train_step = tf.train.AdamOptimizer(1e-4).minimize(cross_entropy)\n",
    "correct_prediction = tf.equal(tf.argmax(y_conv,1), tf.argmax(y_,1))\n",
    "accuracy = tf.reduce_mean(tf.cast(correct_prediction, tf.float32))\n",
    "sess.run(tf.global_variables_initializer())\n",
    "x_list = []\n",
    "validation_y = []\n",
    "training_y = []\n",
    "\n",
    "batch_size = 100\n",
    "n_epochs = 10\n",
    "\n",
    "#for epoch_i in range(n_epochs):\n",
    "#    x_list.append(epoch_i)\n",
    "#    print(\"epoch %d, validation accuracy %g\"%(epoch_i, validation_accuracy))\n",
    "for i in range(5000):\n",
    "\n",
    "    #validation_batch = mnist.validation.next_batch(50)\n",
    "    batch = mnist.train.next_batch(batch_size)\n",
    "    if i%20 == 0:\n",
    "        train_accuracy = accuracy.eval(feed_dict={\n",
    "            x:batch[0], y_: batch[1], keep_prob: 1.0})\n",
    "        validation_accuracy = accuracy.eval(feed_dict={\n",
    "            x: mnist.validation.images, y_: mnist.validation.labels, keep_prob: 1.0})\n",
    "        validation_y.append(validation_accuracy)\n",
    "        x_list.append(i)\n",
    "        training_y.append(train_accuracy)\n",
    "    if i%100 == 0:\n",
    "        print(\"step %d, validation accuracy %g, train accuracy %g\"%(i, validation_accuracy, train_accuracy))\n",
    "    #train_step.run(feed_dict={x: validation_batch[0], y_: validation_batch[1], keep_prob: 0.5})\n",
    "    train_step.run(feed_dict={x: batch[0], y_: batch[1], keep_prob: 0.5})\n",
    "\n",
    "    \n",
    "#plt.show()"
   ]
  },
  {
   "cell_type": "markdown",
   "metadata": {},
   "source": [
    "The final test set accuracy after running this code should be approximately 99.2%."
   ]
  },
  {
   "cell_type": "code",
   "execution_count": 27,
   "metadata": {
    "collapsed": false
   },
   "outputs": [
    {
     "data": {
      "text/plain": [
       "[<matplotlib.lines.Line2D at 0x113ffbb38>,\n",
       " <matplotlib.lines.Line2D at 0x114490668>]"
      ]
     },
     "execution_count": 27,
     "metadata": {},
     "output_type": "execute_result"
    },
    {
     "data": {
      "image/png": "[encoded data removed]",
      "text/plain": [
       "<matplotlib.figure.Figure at 0x1140b2358>"
      ]
     },
     "metadata": {},
     "output_type": "display_data"
    }
   ],
   "source": [
    "import matplotlib.pyplot as plt\n",
    "%matplotlib inline\n",
    "plt.axis([0, 5000, 0.85, 1])\n",
    "plt.plot(x_list, validation_y, 'b', x_list, training_y, 'g')"
   ]
  },
  {
   "cell_type": "code",
   "execution_count": null,
   "metadata": {
    "collapsed": true
   },
   "outputs": [],
   "source": []
  }
 ],
 "metadata": {
  "kernelspec": {
   "display_name": "Python 3",
   "language": "python",
   "name": "python3"
  },
  "language_info": {
   "codemirror_mode": {
    "name": "ipython",
    "version": 3
   },
   "file_extension": ".py",
   "mimetype": "text/x-python",
   "name": "python",
   "nbconvert_exporter": "python",
   "pygments_lexer": "ipython3",
   "version": "3.5.2"
  }
 },
 "nbformat": 4,
 "nbformat_minor": 0
}
